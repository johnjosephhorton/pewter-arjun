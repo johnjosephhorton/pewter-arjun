{
 "cells": [
  {
   "cell_type": "code",
   "execution_count": 2,
   "id": "8dd3078b",
   "metadata": {},
   "outputs": [],
   "source": [
    "import pandas as pd\n",
    "from pathlib import Path\n",
    "import os\n"
   ]
  },
  {
   "cell_type": "code",
   "execution_count": 7,
   "id": "869cfde0",
   "metadata": {},
   "outputs": [
    {
     "name": "stdout",
     "output_type": "stream",
     "text": [
      "Filename : Combined_Jobs_Final.csv\n",
      "No of rows 84090\n",
      "Column names\n",
      " ['Job.ID', 'Provider', 'Status', 'Slug', 'Title', 'Position', 'Company', 'City', 'State.Name', 'State.Code', 'Address', 'Latitude', 'Longitude', 'Industry', 'Job.Description', 'Requirements', 'Salary', 'Listing.Start', 'Listing.End', 'Employment.Type', 'Education.Required', 'Created.At', 'Updated.At']\n",
      "\n",
      "\n",
      "\n",
      "Filename : Job_Views.csv\n",
      "No of rows 12370\n",
      "Column names\n",
      " ['Applicant.ID', 'Job.ID', 'Title', 'Position', 'Company', 'City', 'State.Name', 'State.Code', 'Industry', 'View.Start', 'View.End', 'View.Duration', 'Created.At', 'Updated.At']\n",
      "\n",
      "\n",
      "\n",
      "Filename : job_data.csv\n",
      "No of rows 84090\n",
      "Column names\n",
      " ['Unnamed: 0', 'Job.ID', 'text']\n",
      "\n",
      "\n",
      "\n",
      "Filename : Positions_Of_Interest.csv\n",
      "No of rows 6560\n",
      "Column names\n",
      " ['Applicant.ID', 'Position.Of.Interest', 'Created.At', 'Updated.At']\n",
      "\n",
      "\n",
      "\n",
      "Filename : Experience.csv\n",
      "No of rows 8653\n",
      "Column names\n",
      " ['Applicant.ID', 'Position.Name', 'Employer.Name', 'City', 'State.Name', 'State.Code', 'Start.Date', 'End.Date', 'Job.Description', 'Salary', 'Can.Contact.Employer', 'Created.At', 'Updated.At']\n",
      "\n",
      "\n",
      "\n"
     ]
    }
   ],
   "source": [
    "dir_path = os.path.dirname(os.path.abspath(\"__file__\")) + \"/data\"\n",
    "for file in os.listdir(dir_path):\n",
    "    filename = os.fsdecode(file)\n",
    "    if filename.endswith(\".csv\"):\n",
    "        print('Filename :', filename)\n",
    "        file_name = os.path.join(dir_path, filename)\n",
    "        df = pd.read_csv(file_name)\n",
    "        print('No of rows', df.shape[0])\n",
    "        print('Column names\\n', list(df))\n",
    "        print('\\n\\n')\n",
    "        "
   ]
  },
  {
   "cell_type": "code",
   "execution_count": null,
   "id": "1efeb7e6",
   "metadata": {},
   "outputs": [],
   "source": []
  }
 ],
 "metadata": {
  "kernelspec": {
   "display_name": "Python 3",
   "language": "python",
   "name": "python3"
  },
  "language_info": {
   "codemirror_mode": {
    "name": "ipython",
    "version": 3
   },
   "file_extension": ".py",
   "mimetype": "text/x-python",
   "name": "python",
   "nbconvert_exporter": "python",
   "pygments_lexer": "ipython3",
   "version": "3.7.12"
  }
 },
 "nbformat": 4,
 "nbformat_minor": 5
}
